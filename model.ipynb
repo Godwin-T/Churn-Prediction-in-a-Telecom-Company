{
 "cells": [
  {
   "attachments": {},
   "cell_type": "markdown",
   "metadata": {},
   "source": [
    "Import Libraries"
   ]
  },
  {
   "cell_type": "code",
   "execution_count": 17,
   "metadata": {},
   "outputs": [],
   "source": [
    "import pandas as pd\n",
    "import numpy as np\n",
    "\n",
    "from matplotlib import pyplot as plt\n",
    "import seaborn as sns\n",
    "from IPython.display import display\n",
    "from sklearn.feature_extraction import DictVectorizer\n",
    "from sklearn.model_selection import train_test_split, KFold, RepeatedStratifiedKFold\n",
    "from tpot import TPOTClassifier\n",
    "\n",
    "from sklearn.linear_model import LogisticRegression\n",
    "from sklearn.metrics import confusion_matrix, precision_score, recall_score, f1_score, roc_auc_score, accuracy_score\n",
    "\n",
    "from tqdm.auto import tqdm\n",
    "import warnings\n",
    "warnings.filterwarnings('ignore')"
   ]
  },
  {
   "attachments": {},
   "cell_type": "markdown",
   "metadata": {},
   "source": [
    "Load Dataset"
   ]
  },
  {
   "cell_type": "code",
   "execution_count": 3,
   "metadata": {},
   "outputs": [],
   "source": [
    "path = './data/Telco-Customer-Churn.csv'\n",
    "data = pd.read_csv(path)\n",
    "data.columns = data.columns.str.replace(' ', '_').str.lower()\n",
    "\n",
    "categorical_col = data.dtypes[data.dtypes == 'object'].index.tolist()\n",
    "\n",
    "for col in categorical_col:\n",
    "    data[col] = data[col].str.replace(' ', '_').str.lower()\n",
    "#data.head()"
   ]
  },
  {
   "attachments": {},
   "cell_type": "markdown",
   "metadata": {},
   "source": [
    "EDA"
   ]
  },
  {
   "cell_type": "code",
   "execution_count": 4,
   "metadata": {},
   "outputs": [],
   "source": [
    "#data.info()"
   ]
  },
  {
   "cell_type": "code",
   "execution_count": 5,
   "metadata": {},
   "outputs": [],
   "source": [
    "#data.describe()"
   ]
  },
  {
   "cell_type": "code",
   "execution_count": 6,
   "metadata": {},
   "outputs": [],
   "source": [
    "data['churn'] = (data.churn=='yes').astype(int)\n",
    "categorical_col = data.dtypes[data.dtypes == 'object'].index.tolist()\n",
    "numerical_col = ['tenure', 'totalcharges', 'monthlycharges']\n",
    "\n",
    "categorical_col.remove('customerid')"
   ]
  },
  {
   "cell_type": "code",
   "execution_count": 7,
   "metadata": {},
   "outputs": [],
   "source": [
    "# train_data, test_data = train_test_split(data, test_size=0.2,\n",
    "#                                          random_state=0)\n",
    "\n",
    "# train_x = train_data.drop(['churn'], axis = 1)\n",
    "# test_x = test_data.drop(['churn'], axis = 1)\n",
    "\n",
    "# train_y = train_data.pop('churn')\n",
    "# test_y = test_data.pop('churn')"
   ]
  },
  {
   "cell_type": "code",
   "execution_count": 8,
   "metadata": {},
   "outputs": [],
   "source": [
    "dv = DictVectorizer(sparse = False)\n",
    "dv.fit(data[categorical_col + numerical_col].to_dict(orient = 'records'))\n",
    "feature_names = dv.feature_names_\n",
    "train_x = dv.transform(data[categorical_col + numerical_col].to_dict(orient = 'records'))\n",
    "train_y = data['churn']\n",
    "\n",
    "new_df = pd.DataFrame(train_x, columns=feature_names)"
   ]
  },
  {
   "cell_type": "code",
   "execution_count": 20,
   "metadata": {},
   "outputs": [
    {
     "data": {
      "application/vnd.jupyter.widget-view+json": {
       "model_id": "3e9774b4e84d487a905dac30a46addfe",
       "version_major": 2,
       "version_minor": 0
      },
      "text/plain": [
       "Optimization Progress:   0%|          | 0/120 [00:00<?, ?pipeline/s]"
      ]
     },
     "metadata": {},
     "output_type": "display_data"
    }
   ],
   "source": [
    "cv = RepeatedStratifiedKFold(n_splits=5, n_repeats=2, \n",
    "                             random_state=1)\n",
    "model = TPOTClassifier(generations=3, population_size=30, \n",
    "                       cv=cv, scoring='accuracy', \n",
    "                       verbosity=2, random_state=1,\n",
    "                        n_jobs=-1)\n",
    "\n",
    "model.fit(new_df, train_y)\n",
    "model.export('churn_best_model.py')"
   ]
  },
  {
   "cell_type": "code",
   "execution_count": 10,
   "metadata": {},
   "outputs": [],
   "source": [
    "model.export('churn_best_model.py')"
   ]
  },
  {
   "cell_type": "code",
   "execution_count": 18,
   "metadata": {},
   "outputs": [
    {
     "data": {
      "text/plain": [
       "(0.7346301292063041, 0.0, 0.0, 0.0)"
      ]
     },
     "execution_count": 18,
     "metadata": {},
     "output_type": "execute_result"
    }
   ],
   "source": [
    "pred = model.predict(new_df)\n",
    "accuracy_score(train_y, pred), precision_score(train_y, pred), recall_score(train_y, pred), f1_score(train_y, pred)"
   ]
  },
  {
   "cell_type": "code",
   "execution_count": 19,
   "metadata": {},
   "outputs": [
    {
     "data": {
      "text/plain": [
       "array([[5174,    0],\n",
       "       [1869,    0]], dtype=int64)"
      ]
     },
     "execution_count": 19,
     "metadata": {},
     "output_type": "execute_result"
    }
   ],
   "source": [
    "confusion_matrix(train_y, pred)"
   ]
  },
  {
   "cell_type": "code",
   "execution_count": null,
   "metadata": {},
   "outputs": [],
   "source": []
  },
  {
   "cell_type": "code",
   "execution_count": 14,
   "metadata": {},
   "outputs": [
    {
     "data": {
      "text/plain": [
       "0    5174\n",
       "1    1869\n",
       "Name: churn, dtype: int64"
      ]
     },
     "execution_count": 14,
     "metadata": {},
     "output_type": "execute_result"
    }
   ],
   "source": [
    "data['churn'].value_counts()"
   ]
  },
  {
   "cell_type": "code",
   "execution_count": 16,
   "metadata": {},
   "outputs": [
    {
     "data": {
      "text/plain": [
       "array([0, 0, 0, ..., 0, 0, 0])"
      ]
     },
     "execution_count": 16,
     "metadata": {},
     "output_type": "execute_result"
    }
   ],
   "source": []
  },
  {
   "cell_type": "code",
   "execution_count": null,
   "metadata": {},
   "outputs": [],
   "source": []
  },
  {
   "cell_type": "code",
   "execution_count": 101,
   "metadata": {},
   "outputs": [],
   "source": [
    "def metric(actual, predicted, t):\n",
    "\n",
    "    accuracy = (predicted == actual).mean()\n",
    "    actual_positive = (actual == 1)\n",
    "    actual_negative = (actual == 0)\n",
    "\n",
    "    predicted_positive = (predicted >= t)\n",
    "    predicted_negative = (predicted < t)\n",
    "\n",
    "\n",
    "\n",
    "    tp = (actual_positive & predicted_positive).sum()\n",
    "    tn = (actual_negative & predicted_negative).sum()\n",
    "    fp = (actual_negative & predicted_positive).sum()\n",
    "    fn = (actual_positive & predicted_negative).sum()\n",
    "\n",
    "    tpr = tp/ (tp + fn)\n",
    "    fpr = fp/ (fp + tn)\n",
    "\n",
    "    precision = tp/(tp + fp)\n",
    "    recall = tp/(tp +fn)\n",
    "    f1_score = 2 * ((precision * recall)/ (precision + recall))\n",
    "\n",
    "    return tn, fp, fn, tp, precision, recall, tpr, fpr, f1_score#, accuracy"
   ]
  },
  {
   "cell_type": "code",
   "execution_count": 102,
   "metadata": {},
   "outputs": [],
   "source": [
    "def model_rates(y_test, prediction):\n",
    "\n",
    "    actual_positive = (y_test == 1)\n",
    "    actual_negative = (y_test == 0)\n",
    "\n",
    "    predicted_positive = (prediction >= t)\n",
    "    predicted_negative = (prediction < t)\n",
    "\n",
    "    true_positive = (actual_positive & predicted_positive).sum()\n",
    "    true_negative = (actual_negative & predicted_negative).sum()\n",
    "    false_positive = (actual_negative & predicted_positive).sum()\n",
    "    false_negative = (actual_positive & predicted_negative).sum()\n",
    "\n",
    "    score.append((t,true_positive, false_positive, false_negative, true_negative))\n",
    "\n",
    "    df = pd.DataFrame(score, columns= ['threshold','true_positive', 'false_positive', 'false_negative', 'true_negative'])\n",
    "    df.true_positive_rate = df.true_positive/(df.true_positive + df.false_negative)\n",
    "    df.false_positive_rate = df.false_positive/(df.true_negative + df.false_positive)\n",
    "\n",
    "    return df"
   ]
  },
  {
   "cell_type": "code",
   "execution_count": 103,
   "metadata": {},
   "outputs": [],
   "source": [
    "dv = DictVectorizer(sparse = False)\n",
    "def train(data, y, c):\n",
    "    dv.fit(data[categorical_col + numerical_col].to_dict(orient = 'records'))\n",
    "    X_train = dv.transform(data[categorical_col + numerical_col].to_dict(orient = 'records'))\n",
    "\n",
    "    model = LogisticRegression(C = c, max_iter = 1000)\n",
    "    model.fit(X_train, y)\n",
    "    return dv, model\n",
    "\n",
    "def predict(data, dv, model):\n",
    "    X_test = dv.transform(data[categorical_col + numerical_col].to_dict(orient = 'records'))\n",
    "    prediction = model.predict_proba(X_test)[:,1]\n",
    "    return prediction"
   ]
  },
  {
   "cell_type": "code",
   "execution_count": 104,
   "metadata": {},
   "outputs": [],
   "source": [
    "\n",
    "dv, model = train(train_data, y_train, c = 1)\n",
    "prediction = predict(test_data, dv, model)\n",
    "\n",
    "tn, fp, fn, tp, precision, recall, tpr, fpr, f1_score = metric(y_test, prediction, 0.5)\n",
    "cm = np.array([[tn, fp], [fn, tp]])"
   ]
  },
  {
   "cell_type": "code",
   "execution_count": 105,
   "metadata": {},
   "outputs": [
    {
     "data": {
      "text/plain": [
       "0.8581973739803048"
      ]
     },
     "execution_count": 105,
     "metadata": {},
     "output_type": "execute_result"
    }
   ],
   "source": [
    "roc_auc_score(y_test,prediction)"
   ]
  },
  {
   "cell_type": "code",
   "execution_count": 66,
   "metadata": {},
   "outputs": [],
   "source": [
    "import pickle\n",
    "\n",
    "out = 'Churn.bin'\n",
    "\n",
    "with open(out, 'wb') as f:\n",
    "    pickle.dump((dv,model), f)"
   ]
  },
  {
   "cell_type": "code",
   "execution_count": 68,
   "metadata": {},
   "outputs": [],
   "source": [
    "with open(out, 'rb') as f_in:\n",
    "    dv, model = pickle.load(f_in)"
   ]
  },
  {
   "cell_type": "code",
   "execution_count": 111,
   "metadata": {},
   "outputs": [],
   "source": [
    "test = data.iloc[8].to_dict()"
   ]
  }
 ],
 "metadata": {
  "kernelspec": {
   "display_name": "Python 3.9.13 ('Tensorflow')",
   "language": "python",
   "name": "python3"
  },
  "language_info": {
   "codemirror_mode": {
    "name": "ipython",
    "version": 3
   },
   "file_extension": ".py",
   "mimetype": "text/x-python",
   "name": "python",
   "nbconvert_exporter": "python",
   "pygments_lexer": "ipython3",
   "version": "3.9.13"
  },
  "orig_nbformat": 4,
  "vscode": {
   "interpreter": {
    "hash": "a2031be23302a6f80daad80b84b83a86f535e1c11907b65b4c4b25f3c409004f"
   }
  }
 },
 "nbformat": 4,
 "nbformat_minor": 2
}
