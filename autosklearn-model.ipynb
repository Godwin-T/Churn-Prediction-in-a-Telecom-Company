{
 "cells": [
  {
   "cell_type": "code",
   "execution_count": null,
   "metadata": {},
   "outputs": [],
   "source": [
    "import pandas as pd\n",
    "import numpy as np\n",
    "\n",
    "from matplotlib import pyplot as plt\n",
    "import seaborn as sns\n",
    "from IPython.display import display\n",
    "from sklearn.feature_extraction import DictVectorizer\n",
    "from sklearn.model_selection import train_test_split, KFold, RepeatedStratifiedKFold\n",
    "from tpot import TPOTClassifier\n",
    "\n",
    "from sklearn.linear_model import LogisticRegression\n",
    "from sklearn.metrics import mutual_info_score, roc_curve, auc, roc_auc_score\n",
    "\n",
    "from autosklearn.classification import AutoSklearnClassifier\n",
    "\n",
    "from tqdm.auto import tqdm\n",
    "import warnings\n",
    "warnings.filterwarnings('ignore')"
   ]
  },
  {
   "cell_type": "code",
   "execution_count": null,
   "metadata": {},
   "outputs": [],
   "source": [
    "path = './data/Telco-Customer-Churn.csv'\n",
    "data = pd.read_csv(path)\n",
    "data.columns = data.columns.str.replace(' ', '_').str.lower()\n",
    "\n",
    "categorical_col = data.dtypes[data.dtypes == 'object'].index.tolist()\n",
    "\n",
    "for col in categorical_col:\n",
    "    data[col] = data[col].str.replace(' ', '_').str.lower()\n",
    "\n",
    "\n",
    "data['churn'] = (data.churn=='yes').astype(int)\n",
    "categorical_col = data.dtypes[data.dtypes == 'object'].index.tolist()\n",
    "numerical_col = ['tenure', 'totalcharges', 'monthlycharges']\n",
    "\n",
    "categorical_col.remove('customerid')"
   ]
  },
  {
   "cell_type": "code",
   "execution_count": null,
   "metadata": {},
   "outputs": [],
   "source": [
    "train_data, test_data = train_test_split(data, test_size=0.2,\n",
    "                                         random_state=0)\n",
    "\n",
    "train_x = train_data.drop(['churn'], axis = 1)\n",
    "test_x = test_data.drop(['churn'], axis = 1)\n",
    "\n",
    "train_y = train_data.pop('churn')\n",
    "test_y = test_data.pop('churn')"
   ]
  },
  {
   "cell_type": "code",
   "execution_count": null,
   "metadata": {},
   "outputs": [],
   "source": [
    "dv = DictVectorizer(sparse = False)\n",
    "\n",
    "dv.fit(train_x[categorical_col + numerical_col].to_dict(orient = 'records'))\n",
    "feature_names = dv.feature_names_\n",
    "\n",
    "train_x = dv.transform(train_x[categorical_col + numerical_col].to_dict(orient = 'records'))\n",
    "train_x = dv.transform(test_x[categorical_col + numerical_col].to_dict(orient = 'records'))\n",
    "\n",
    "\n",
    "train_df = pd.DataFrame(train_x, columns=feature_names)\n",
    "test = pd.DataFrame(test_x, columns=feature_names)"
   ]
  },
  {
   "cell_type": "code",
   "execution_count": null,
   "metadata": {},
   "outputs": [],
   "source": [
    "automl = AutoSklearnClassifier(time_left_for_this_task=5*60,\n",
    "                                per_run_time_limit=30,\n",
    "                                ensemble_size = 1,\n",
    "                                tmp_folder='/temp/autosklearn_classification_example_tmp')\n",
    "\n",
    "automl.fit(train_x, train_y)\n",
    "print(automl.sprint_statistics())\n",
    "\n",
    "print(automl.leaderboard())"
   ]
  }
 ],
 "metadata": {
  "language_info": {
   "name": "python"
  },
  "orig_nbformat": 4
 },
 "nbformat": 4,
 "nbformat_minor": 2
}
